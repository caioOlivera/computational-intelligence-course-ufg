{
  "nbformat": 4,
  "nbformat_minor": 0,
  "metadata": {
    "colab": {
      "provenance": []
    },
    "kernelspec": {
      "name": "python3",
      "display_name": "Python 3"
    },
    "language_info": {
      "name": "python"
    }
  },
  "cells": [
    {
      "cell_type": "markdown",
      "source": [
        "# Exercício 1\n",
        "\n",
        "Qual é o caminho mais rápido para ir de 1 a N, sabendo que as únicas duas ações possíveis são:\n",
        " - andar de i para i + 1, com duração de 1 minuto (para todo i de 1 a N - 1)\n",
        " - mágica de i para 2*i, com duração de 2 minutos (para todo i de 1 a N/2)\n",
        "\n",
        "Implemente as funções da classe abaixo que define a interface desse problema para utilização com algoritmos de busca vistos em sala de aula. Em sequência, escolha e implemente um dos algoritmos de busca explicados em sala que resolva o problema. Faça essa implementação na função *solution*, que tem como input um objeto criado utilizando a classe implementada *TransportationProblem*."
      ],
      "metadata": {
        "id": "Ma869bRMJ1kc"
      }
    },
    {
      "cell_type": "code",
      "execution_count": null,
      "metadata": {
        "id": "8exGlgGkA37Z"
      },
      "outputs": [],
      "source": [
        "from collections import deque\n",
        "from queue import PriorityQueue\n",
        "\n",
        "class TransportationProblem:\n",
        "    def __init__(self, N):\n",
        "        self.N = N\n",
        "\n",
        "    def startState(self):\n",
        "        # Estado inicial é 1\n",
        "        return 1\n",
        "\n",
        "    def isEnd(self, state):\n",
        "        # Verifica se o estado é o estado final\n",
        "        return state == self.N\n",
        "\n",
        "    def succAndCost(self, state):\n",
        "        # Retorna uma lista de tuplas com 3 informações:\n",
        "        # (ação, novo estado, custo)\n",
        "\n",
        "        successors = []\n",
        "\n",
        "        # Adiciona ação 'walk' para estados de 1 a N-1\n",
        "        if state < self.N:\n",
        "            successors.append(('walk', state + 1, 1))\n",
        "\n",
        "        # Adiciona ação 'magic' para estados de 1 a N/2\n",
        "        if state * 2 <= self.N:\n",
        "            successors.append(('magic', state * 2, 2))\n",
        "\n",
        "        return successors"
      ]
    },
    {
      "cell_type": "code",
      "source": [
        "def solution(problem):\n",
        "    # Utilizando uma fila de prioridade para a fronteira\n",
        "    frontier = PriorityQueue()\n",
        "    frontier.put((0, problem.startState()))  # Tupla (custo, estado)\n",
        "\n",
        "    came_from = {}  # Dicionário para armazenar de onde veio cada estado\n",
        "    cost_so_far = {problem.startState(): 0}  # Dicionário para armazenar custo até o momento para cada estado\n",
        "\n",
        "    while not frontier.empty():\n",
        "        current_cost, current_state = frontier.get()\n",
        "\n",
        "        if problem.isEnd(current_state):\n",
        "            # Reconstruir o caminho a partir do estado final\n",
        "            path = []\n",
        "            while current_state in came_from:\n",
        "                action, next_state, cost = came_from[current_state]\n",
        "                path.append((action, current_state, cost))\n",
        "                current_state = next_state\n",
        "            path.reverse()\n",
        "            return path\n",
        "\n",
        "        for action, next_state, cost in problem.succAndCost(current_state):\n",
        "            new_cost = cost_so_far[current_state] + cost\n",
        "\n",
        "            if next_state not in cost_so_far or new_cost < cost_so_far[next_state]:\n",
        "                cost_so_far[next_state] = new_cost\n",
        "                came_from[next_state] = (action, current_state, cost)\n",
        "                frontier.put((new_cost, next_state))  # Adiciona na fila de prioridade com o novo custo\n",
        "\n",
        "# Exemplos de uso\n",
        "N = 2\n",
        "p = TransportationProblem(N)\n",
        "print(*solution(p), sep='\\n')"
      ],
      "metadata": {
        "id": "a3prpoBVJzp0",
        "colab": {
          "base_uri": "https://localhost:8080/"
        },
        "outputId": "3da4b784-037e-4385-d9b1-eecb7edbd7c5"
      },
      "execution_count": null,
      "outputs": [
        {
          "output_type": "stream",
          "name": "stdout",
          "text": [
            "('walk', 2, 1)\n"
          ]
        }
      ]
    },
    {
      "cell_type": "markdown",
      "source": [
        "Exemplos:\n",
        "\n",
        "\n",
        "> N = 2 \\\n",
        "> p = TransportationProblem(N) \\\n",
        "> print(*solution(p), sep='\\n') \\\n",
        "\n",
        "('walk', 2, 1)\n",
        "\n",
        "=====================================\n",
        "\n",
        "> N = 3 \\\n",
        "> p = TransportationProblem(N) \\\n",
        "> print(*solution(p), sep='\\n') \\\n",
        "\n",
        "('walk', 2, 1) \\\n",
        "('walk', 3, 1)\n",
        "\n",
        "=====================================\n",
        "\n",
        "> N = 10 \\\n",
        "> p = TransportationProblem(N) \\\n",
        "> print(*solution(p), sep='\\n') \\\n",
        "\n",
        "('walk', 2, 1) \\\n",
        "('magic', 4, 2) \\\n",
        "('walk', 5, 1) \\\n",
        "('magic', 10, 2) \\\n",
        "\n",
        "ou\n",
        "\n",
        "('walk', 2, 1) \\\n",
        "('walk', 3, 1) \\\n",
        "('walk', 4, 1) \\\n",
        "('walk', 5, 1) \\\n",
        "('magic', 10, 2) \\\n",
        "\n",
        "(**nesse caso, os caminhos apresentam o mesmo custo total, logo não é necessário retornar as duas soluções, basta uma delas**)\n",
        "\n",
        "=====================================\n",
        "\n",
        "> N = 12 \\\n",
        "> p = TransportationProblem(N) \\\n",
        "> print(*solution(p), sep='\\n') \\\n",
        "\n",
        "('walk', 2, 1) \\\n",
        "('walk', 3, 1) \\\n",
        "('magic', 6, 2) \\\n",
        "('magic', 12, 2) \\"
      ],
      "metadata": {
        "id": "NIOXxqKPR6xr"
      }
    },
    {
      "cell_type": "code",
      "source": [
        "# Exemplos\n",
        "N = 2\n",
        "p = TransportationProblem(N)\n",
        "print(*solution(p), sep='\\n')\n",
        "\n",
        "N = 3\n",
        "p = TransportationProblem(N)\n",
        "print(*solution(p), sep='\\n')\n",
        "\n",
        "N = 10\n",
        "p = TransportationProblem(N)\n",
        "print(*solution(p), sep='\\n')\n",
        "\n",
        "N = 12\n",
        "p = TransportationProblem(N)\n",
        "print(*solution(p), sep='\\n')"
      ],
      "metadata": {
        "id": "DGLE2uyFNPny",
        "colab": {
          "base_uri": "https://localhost:8080/"
        },
        "outputId": "026ce571-140d-438c-9bd9-803d12b2c758"
      },
      "execution_count": null,
      "outputs": [
        {
          "output_type": "stream",
          "name": "stdout",
          "text": [
            "('walk', 2, 1)\n",
            "('walk', 2, 1)\n",
            "('walk', 3, 1)\n",
            "('walk', 2, 1)\n",
            "('magic', 4, 2)\n",
            "('walk', 5, 1)\n",
            "('magic', 10, 2)\n",
            "('walk', 2, 1)\n",
            "('walk', 3, 1)\n",
            "('magic', 6, 2)\n",
            "('magic', 12, 2)\n"
          ]
        }
      ]
    },
    {
      "cell_type": "markdown",
      "source": [
        "Implemente uma soução para o problema com o algoritmo A* e uma solução com Dynamic Programing. Compare em gráfico o tempo de execução dos dois algoritmos e da sua solução (caso ela tenha sido diferente) para N variando de 10 a 500 (caso esteja demorando muito para Ns maiores, vá até o maior valor de N que conseguir)."
      ],
      "metadata": {
        "id": "AitK3ibKOBO5"
      }
    },
    {
      "cell_type": "code",
      "source": [
        "import time\n",
        "import matplotlib.pyplot as plt\n",
        "\n",
        "def heuristica(state, goal):\n",
        "    # Heurística simples: distância até o estado final\n",
        "    if type(goal) == int:\n",
        "        goal = [goal]  # Convert integer to a list\n",
        "    if type(state) == int:\n",
        "        state = [state]  # Convert integer to a list\n",
        "    return abs(goal[0] - state[0])\n",
        "\n",
        "def solutionAstar(problem):\n",
        "    frontier = PriorityQueue()\n",
        "    frontier.put((0, problem.startState(), None, 0))  # Tupla (prioridade, estado, ação, custo)\n",
        "    came_from = set()\n",
        "    cost_so_far = {problem.startState(): 0}\n",
        "\n",
        "    while not frontier.empty():\n",
        "        _, current_state, action, _ = frontier.get()\n",
        "\n",
        "        if problem.isEnd(current_state):\n",
        "            # Reconstruir o caminho a partir do estado final usando deque\n",
        "            path = deque()\n",
        "            while action is not None:\n",
        "                path.appendleft((action, current_state, 0))\n",
        "                action, current_state, _ = came_from.pop()\n",
        "            return path\n",
        "\n",
        "        for next_action, next_state, cost in problem.succAndCost(current_state):\n",
        "            new_cost = cost_so_far[current_state] + cost\n",
        "            heuristic_cost = heuristica(next_state, problem.N)\n",
        "            total_cost = new_cost + heuristic_cost\n",
        "\n",
        "            if next_state not in cost_so_far or new_cost < cost_so_far[next_state]:\n",
        "                cost_so_far[next_state] = new_cost\n",
        "                frontier.put((total_cost, next_state, next_action, new_cost))\n",
        "                came_from.add((next_action, next_state, current_state))\n",
        "\n",
        "\n",
        "def solutionDP(problem):\n",
        "    # Inicialização da tabela DP\n",
        "    dp_table = {i: (float('inf'), None) for i in range(1, problem.N + 1)}\n",
        "    dp_table[problem.N] = (0, None)\n",
        "\n",
        "    # Preenchimento da tabela DP\n",
        "    for state in range(problem.N - 1, 0, -1):\n",
        "        walk_cost = dp_table[state + 1][0] + 1\n",
        "        dp_table[state] = min(dp_table[state], (walk_cost, 'walk'))\n",
        "\n",
        "        if state * 2 <= problem.N:\n",
        "            magic_cost = dp_table[state * 2][0] + 2\n",
        "            dp_table[state] = min(dp_table[state], (magic_cost, 'magic'))\n",
        "\n",
        "    # Reconstrução do caminho a partir da tabela DP\n",
        "    path = []\n",
        "    current_state = 1\n",
        "    while current_state is not None:\n",
        "      _, action = dp_table[current_state]\n",
        "      if action is not None:\n",
        "          path.append((action, current_state, 0))  # O terceiro elemento é irrelevante aqui\n",
        "          if action == 'walk':\n",
        "              current_state += 1\n",
        "          elif action == 'magic':\n",
        "              current_state *= 2\n",
        "      else:\n",
        "          current_state = None\n",
        "\n",
        "    path.reverse()\n",
        "    return path\n",
        "\n",
        "# Testando a implementação inicial\n",
        "N = 10\n",
        "p = TransportationProblem(N)\n",
        "print(\"A*:\", *solutionAstar(p), sep='\\n')\n",
        "print(\"DP:\", *solutionDP(p), sep='\\n')\n"
      ],
      "metadata": {
        "id": "rCqpDDPvPgd_",
        "colab": {
          "base_uri": "https://localhost:8080/",
          "height": 349
        },
        "outputId": "910501f9-9f6c-41a5-9ecc-6bf0ca19421b"
      },
      "execution_count": null,
      "outputs": [
        {
          "output_type": "error",
          "ename": "KeyError",
          "evalue": "ignored",
          "traceback": [
            "\u001b[0;31m---------------------------------------------------------------------------\u001b[0m",
            "\u001b[0;31mKeyError\u001b[0m                                  Traceback (most recent call last)",
            "\u001b[0;32m<ipython-input-4-0e7801a13ff1>\u001b[0m in \u001b[0;36m<cell line: 74>\u001b[0;34m()\u001b[0m\n\u001b[1;32m     72\u001b[0m \u001b[0mN\u001b[0m \u001b[0;34m=\u001b[0m \u001b[0;36m10\u001b[0m\u001b[0;34m\u001b[0m\u001b[0;34m\u001b[0m\u001b[0m\n\u001b[1;32m     73\u001b[0m \u001b[0mp\u001b[0m \u001b[0;34m=\u001b[0m \u001b[0mTransportationProblem\u001b[0m\u001b[0;34m(\u001b[0m\u001b[0mN\u001b[0m\u001b[0;34m)\u001b[0m\u001b[0;34m\u001b[0m\u001b[0;34m\u001b[0m\u001b[0m\n\u001b[0;32m---> 74\u001b[0;31m \u001b[0mprint\u001b[0m\u001b[0;34m(\u001b[0m\u001b[0;34m\"A*:\"\u001b[0m\u001b[0;34m,\u001b[0m \u001b[0;34m*\u001b[0m\u001b[0msolutionAstar\u001b[0m\u001b[0;34m(\u001b[0m\u001b[0mp\u001b[0m\u001b[0;34m)\u001b[0m\u001b[0;34m,\u001b[0m \u001b[0msep\u001b[0m\u001b[0;34m=\u001b[0m\u001b[0;34m'\\n'\u001b[0m\u001b[0;34m)\u001b[0m\u001b[0;34m\u001b[0m\u001b[0;34m\u001b[0m\u001b[0m\n\u001b[0m\u001b[1;32m     75\u001b[0m \u001b[0mprint\u001b[0m\u001b[0;34m(\u001b[0m\u001b[0;34m\"DP:\"\u001b[0m\u001b[0;34m,\u001b[0m \u001b[0;34m*\u001b[0m\u001b[0msolutionDP\u001b[0m\u001b[0;34m(\u001b[0m\u001b[0mp\u001b[0m\u001b[0;34m)\u001b[0m\u001b[0;34m,\u001b[0m \u001b[0msep\u001b[0m\u001b[0;34m=\u001b[0m\u001b[0;34m'\\n'\u001b[0m\u001b[0;34m)\u001b[0m\u001b[0;34m\u001b[0m\u001b[0;34m\u001b[0m\u001b[0m\n",
            "\u001b[0;32m<ipython-input-4-0e7801a13ff1>\u001b[0m in \u001b[0;36msolutionAstar\u001b[0;34m(problem)\u001b[0m\n\u001b[1;32m     24\u001b[0m             \u001b[0;32mwhile\u001b[0m \u001b[0maction\u001b[0m \u001b[0;32mis\u001b[0m \u001b[0;32mnot\u001b[0m \u001b[0;32mNone\u001b[0m\u001b[0;34m:\u001b[0m\u001b[0;34m\u001b[0m\u001b[0;34m\u001b[0m\u001b[0m\n\u001b[1;32m     25\u001b[0m                 \u001b[0mpath\u001b[0m\u001b[0;34m.\u001b[0m\u001b[0mappendleft\u001b[0m\u001b[0;34m(\u001b[0m\u001b[0;34m(\u001b[0m\u001b[0maction\u001b[0m\u001b[0;34m,\u001b[0m \u001b[0mcurrent_state\u001b[0m\u001b[0;34m,\u001b[0m \u001b[0;36m0\u001b[0m\u001b[0;34m)\u001b[0m\u001b[0;34m)\u001b[0m\u001b[0;34m\u001b[0m\u001b[0;34m\u001b[0m\u001b[0m\n\u001b[0;32m---> 26\u001b[0;31m                 \u001b[0maction\u001b[0m\u001b[0;34m,\u001b[0m \u001b[0mcurrent_state\u001b[0m\u001b[0;34m,\u001b[0m \u001b[0m_\u001b[0m \u001b[0;34m=\u001b[0m \u001b[0mcame_from\u001b[0m\u001b[0;34m.\u001b[0m\u001b[0mpop\u001b[0m\u001b[0;34m(\u001b[0m\u001b[0;34m)\u001b[0m\u001b[0;34m\u001b[0m\u001b[0;34m\u001b[0m\u001b[0m\n\u001b[0m\u001b[1;32m     27\u001b[0m             \u001b[0;32mreturn\u001b[0m \u001b[0mpath\u001b[0m\u001b[0;34m\u001b[0m\u001b[0;34m\u001b[0m\u001b[0m\n\u001b[1;32m     28\u001b[0m \u001b[0;34m\u001b[0m\u001b[0m\n",
            "\u001b[0;31mKeyError\u001b[0m: 'pop from an empty set'"
          ]
        }
      ]
    },
    {
      "cell_type": "markdown",
      "source": [
        "**Dica para medir o tempo de execução de uma função:**\n",
        "\n",
        "Mais informações no [link da documentação](https://ipython.readthedocs.io/en/stable/interactive/magics.html#magic-timeit)."
      ],
      "metadata": {
        "id": "oQpUncKbVHIQ"
      }
    },
    {
      "cell_type": "code",
      "source": [
        "def dummyFunc(N = 10):\n",
        "    s = sum(range(N))\n",
        "\n",
        "t = %timeit -q -o dummyFunc()\n",
        "#t = %timeit -n 1 -q -o dummyFunc() # para o caso do comando acima estar demorando muito\n",
        "\n",
        "t.average"
      ],
      "metadata": {
        "colab": {
          "base_uri": "https://localhost:8080/"
        },
        "id": "JAwiVRF0UCPl",
        "outputId": "eb7bbaea-b8d1-4049-8484-f5ee5037248f"
      },
      "execution_count": null,
      "outputs": [
        {
          "output_type": "execute_result",
          "data": {
            "text/plain": [
              "3.194785962857054e-07"
            ]
          },
          "metadata": {},
          "execution_count": 5
        }
      ]
    },
    {
      "cell_type": "code",
      "source": [
        "import time\n",
        "\n",
        "def compare_runtimes():\n",
        "    ns = list(range(10, 501, 10))\n",
        "    times_astar = []\n",
        "    times_dp = []\n",
        "\n",
        "    for N in ns:\n",
        "        p = TransportationProblem(N)\n",
        "\n",
        "        start_time = time.time()\n",
        "        solutionAstar(p)\n",
        "        elapsed_time_astar = time.time() - start_time\n",
        "        times_astar.append(elapsed_time_astar)\n",
        "\n",
        "        start_time = time.time()\n",
        "        solutionDP(p)\n",
        "        elapsed_time_dp = time.time() - start_time\n",
        "        times_dp.append(elapsed_time_dp)\n",
        "\n",
        "    # Plotando o gráfico\n",
        "    plt.plot(ns, times_astar, label='A*')\n",
        "    plt.plot(ns, times_dp, label='Dynamic Programming')\n",
        "    plt.xlabel('N')\n",
        "    plt.ylabel('Tempo de Execução (s)')\n",
        "    plt.legend()\n",
        "    plt.show()\n",
        "\n",
        "# Chamando a função para comparar os tempos de execução\n",
        "compare_runtimes()"
      ],
      "metadata": {
        "colab": {
          "base_uri": "https://localhost:8080/",
          "height": 356
        },
        "id": "Znbi2ytVFlKA",
        "outputId": "847863b2-a301-4850-d19c-d9a161b77393"
      },
      "execution_count": null,
      "outputs": [
        {
          "output_type": "error",
          "ename": "KeyError",
          "evalue": "ignored",
          "traceback": [
            "\u001b[0;31m---------------------------------------------------------------------------\u001b[0m",
            "\u001b[0;31mKeyError\u001b[0m                                  Traceback (most recent call last)",
            "\u001b[0;32m<ipython-input-6-a6f02c57966d>\u001b[0m in \u001b[0;36m<cell line: 30>\u001b[0;34m()\u001b[0m\n\u001b[1;32m     28\u001b[0m \u001b[0;34m\u001b[0m\u001b[0m\n\u001b[1;32m     29\u001b[0m \u001b[0;31m# Chamando a função para comparar os tempos de execução\u001b[0m\u001b[0;34m\u001b[0m\u001b[0;34m\u001b[0m\u001b[0m\n\u001b[0;32m---> 30\u001b[0;31m \u001b[0mcompare_runtimes\u001b[0m\u001b[0;34m(\u001b[0m\u001b[0;34m)\u001b[0m\u001b[0;34m\u001b[0m\u001b[0;34m\u001b[0m\u001b[0m\n\u001b[0m",
            "\u001b[0;32m<ipython-input-6-a6f02c57966d>\u001b[0m in \u001b[0;36mcompare_runtimes\u001b[0;34m()\u001b[0m\n\u001b[1;32m     10\u001b[0m \u001b[0;34m\u001b[0m\u001b[0m\n\u001b[1;32m     11\u001b[0m         \u001b[0mstart_time\u001b[0m \u001b[0;34m=\u001b[0m \u001b[0mtime\u001b[0m\u001b[0;34m.\u001b[0m\u001b[0mtime\u001b[0m\u001b[0;34m(\u001b[0m\u001b[0;34m)\u001b[0m\u001b[0;34m\u001b[0m\u001b[0;34m\u001b[0m\u001b[0m\n\u001b[0;32m---> 12\u001b[0;31m         \u001b[0msolutionAstar\u001b[0m\u001b[0;34m(\u001b[0m\u001b[0mp\u001b[0m\u001b[0;34m)\u001b[0m\u001b[0;34m\u001b[0m\u001b[0;34m\u001b[0m\u001b[0m\n\u001b[0m\u001b[1;32m     13\u001b[0m         \u001b[0melapsed_time_astar\u001b[0m \u001b[0;34m=\u001b[0m \u001b[0mtime\u001b[0m\u001b[0;34m.\u001b[0m\u001b[0mtime\u001b[0m\u001b[0;34m(\u001b[0m\u001b[0;34m)\u001b[0m \u001b[0;34m-\u001b[0m \u001b[0mstart_time\u001b[0m\u001b[0;34m\u001b[0m\u001b[0;34m\u001b[0m\u001b[0m\n\u001b[1;32m     14\u001b[0m         \u001b[0mtimes_astar\u001b[0m\u001b[0;34m.\u001b[0m\u001b[0mappend\u001b[0m\u001b[0;34m(\u001b[0m\u001b[0melapsed_time_astar\u001b[0m\u001b[0;34m)\u001b[0m\u001b[0;34m\u001b[0m\u001b[0;34m\u001b[0m\u001b[0m\n",
            "\u001b[0;32m<ipython-input-4-0e7801a13ff1>\u001b[0m in \u001b[0;36msolutionAstar\u001b[0;34m(problem)\u001b[0m\n\u001b[1;32m     24\u001b[0m             \u001b[0;32mwhile\u001b[0m \u001b[0maction\u001b[0m \u001b[0;32mis\u001b[0m \u001b[0;32mnot\u001b[0m \u001b[0;32mNone\u001b[0m\u001b[0;34m:\u001b[0m\u001b[0;34m\u001b[0m\u001b[0;34m\u001b[0m\u001b[0m\n\u001b[1;32m     25\u001b[0m                 \u001b[0mpath\u001b[0m\u001b[0;34m.\u001b[0m\u001b[0mappendleft\u001b[0m\u001b[0;34m(\u001b[0m\u001b[0;34m(\u001b[0m\u001b[0maction\u001b[0m\u001b[0;34m,\u001b[0m \u001b[0mcurrent_state\u001b[0m\u001b[0;34m,\u001b[0m \u001b[0;36m0\u001b[0m\u001b[0;34m)\u001b[0m\u001b[0;34m)\u001b[0m\u001b[0;34m\u001b[0m\u001b[0;34m\u001b[0m\u001b[0m\n\u001b[0;32m---> 26\u001b[0;31m                 \u001b[0maction\u001b[0m\u001b[0;34m,\u001b[0m \u001b[0mcurrent_state\u001b[0m\u001b[0;34m,\u001b[0m \u001b[0m_\u001b[0m \u001b[0;34m=\u001b[0m \u001b[0mcame_from\u001b[0m\u001b[0;34m.\u001b[0m\u001b[0mpop\u001b[0m\u001b[0;34m(\u001b[0m\u001b[0;34m)\u001b[0m\u001b[0;34m\u001b[0m\u001b[0;34m\u001b[0m\u001b[0m\n\u001b[0m\u001b[1;32m     27\u001b[0m             \u001b[0;32mreturn\u001b[0m \u001b[0mpath\u001b[0m\u001b[0;34m\u001b[0m\u001b[0;34m\u001b[0m\u001b[0m\n\u001b[1;32m     28\u001b[0m \u001b[0;34m\u001b[0m\u001b[0m\n",
            "\u001b[0;31mKeyError\u001b[0m: 'pop from an empty set'"
          ]
        }
      ]
    },
    {
      "cell_type": "markdown",
      "source": [
        "# Exercício 2:\n",
        "\n",
        "Qual é o caminho mais rápido para ir de 1 a N passando obrigatoriamente por pelo menos 3 números ímpares, novamente sabendo que as duas únicas ações possíveis são:\n",
        " - andar de i para i + 1, com duração de 1 minuto (para todo i de 1 a N - 1)\n",
        " - mágica de i para 2*i, com duração de 2 minutos (para todo i de 1 a N/2)\n",
        "\n",
        "Implemente uma nova classe *RestrictedTransportationProblem* para este problema e aplique os algoritmos propostos nas funções *solution*, *solutionAstar* e *solutionDP* para resolvê-lo."
      ],
      "metadata": {
        "id": "BcjQmRUbafOg"
      }
    },
    {
      "cell_type": "code",
      "source": [
        "class RestrictedTransportationProblem:\n",
        "    def __init__(self, N):\n",
        "        self.N = N\n",
        "\n",
        "    def startState(self):\n",
        "        return 1\n",
        "\n",
        "    def isEnd(self, state):\n",
        "        return state == self.N\n",
        "\n",
        "    def succAndCost(self, state):\n",
        "        successors = []\n",
        "\n",
        "        # Adiciona ação 'walk' para estados de 1 a N-1\n",
        "        if state < self.N:\n",
        "            successors.append(('walk', state + 1, 1))\n",
        "\n",
        "        # Adiciona ação 'magic' para estados de 1 a N/2\n",
        "        if state * 2 <= self.N:\n",
        "            successors.append(('magic', state * 2, 2))\n",
        "\n",
        "        return successors\n",
        "\n",
        "class RestrictedTransportationProblemWithOddCount(RestrictedTransportationProblem):\n",
        "    def __init__(self, N, min_odd_count=3):\n",
        "        super().__init__(N)\n",
        "        self.min_odd_count = min_odd_count\n",
        "\n",
        "    def startState(self):\n",
        "        return (1, 0)  # O segundo elemento representa a contagem de números ímpares\n",
        "\n",
        "    def isEnd(self, state):\n",
        "        return state[0] == self.N and state[1] >= self.min_odd_count\n",
        "\n",
        "    def succAndCost(self, state):\n",
        "        current_position, odd_count = state\n",
        "        successors = super().succAndCost(current_position)\n",
        "\n",
        "        for i in range(len(successors)):\n",
        "            action, next_position, cost = successors[i]\n",
        "            successors[i] = (action, (next_position, odd_count + next_position % 2), cost)\n",
        "\n",
        "        return successors\n"
      ],
      "metadata": {
        "id": "7buz4u5d6QZc"
      },
      "execution_count": null,
      "outputs": []
    },
    {
      "cell_type": "code",
      "source": [
        "# Exemplo de teste com diferentes valores de N\n",
        "for N in [10, 20, 30, 40, 50]:\n",
        "    # Criar instância do problema restrito com contagem mínima de ímpares como 3\n",
        "    restricted_problem = RestrictedTransportationProblemWithOddCount(N, min_odd_count=3)\n",
        "\n",
        "    # Chamar as funções de solução\n",
        "    print(f\"\\nN = {N}\")\n",
        "    print(\"Solution:\")\n",
        "    print(*solution(restricted_problem), sep='\\n')\n",
        "\n",
        "    print(\"\\nA* Solution:\")\n",
        "    print(*solutionAstar(restricted_problem), sep='\\n')\n",
        "\n",
        "    print(\"\\nDP Solution:\")\n",
        "    print(*solutionDP(restricted_problem), sep='\\n')\n"
      ],
      "metadata": {
        "colab": {
          "base_uri": "https://localhost:8080/",
          "height": 575
        },
        "id": "6Vygjs-3Gdyo",
        "outputId": "d334d011-e8e1-40c9-a40b-7277230ad56f"
      },
      "execution_count": null,
      "outputs": [
        {
          "output_type": "stream",
          "name": "stdout",
          "text": [
            "\n",
            "N = 10\n",
            "Solution:\n",
            "('walk', (2, 0), 1)\n",
            "('walk', (3, 1), 1)\n",
            "('magic', (6, 1), 2)\n",
            "('walk', (7, 2), 1)\n",
            "('walk', (8, 2), 1)\n",
            "('walk', (9, 3), 1)\n",
            "('walk', (10, 3), 1)\n",
            "\n",
            "A* Solution:\n"
          ]
        },
        {
          "output_type": "error",
          "ename": "KeyError",
          "evalue": "ignored",
          "traceback": [
            "\u001b[0;31m---------------------------------------------------------------------------\u001b[0m",
            "\u001b[0;31mKeyError\u001b[0m                                  Traceback (most recent call last)",
            "\u001b[0;32m<ipython-input-8-dd132da6a939>\u001b[0m in \u001b[0;36m<cell line: 2>\u001b[0;34m()\u001b[0m\n\u001b[1;32m     10\u001b[0m \u001b[0;34m\u001b[0m\u001b[0m\n\u001b[1;32m     11\u001b[0m     \u001b[0mprint\u001b[0m\u001b[0;34m(\u001b[0m\u001b[0;34m\"\\nA* Solution:\"\u001b[0m\u001b[0;34m)\u001b[0m\u001b[0;34m\u001b[0m\u001b[0;34m\u001b[0m\u001b[0m\n\u001b[0;32m---> 12\u001b[0;31m     \u001b[0mprint\u001b[0m\u001b[0;34m(\u001b[0m\u001b[0;34m*\u001b[0m\u001b[0msolutionAstar\u001b[0m\u001b[0;34m(\u001b[0m\u001b[0mrestricted_problem\u001b[0m\u001b[0;34m)\u001b[0m\u001b[0;34m,\u001b[0m \u001b[0msep\u001b[0m\u001b[0;34m=\u001b[0m\u001b[0;34m'\\n'\u001b[0m\u001b[0;34m)\u001b[0m\u001b[0;34m\u001b[0m\u001b[0;34m\u001b[0m\u001b[0m\n\u001b[0m\u001b[1;32m     13\u001b[0m \u001b[0;34m\u001b[0m\u001b[0m\n\u001b[1;32m     14\u001b[0m     \u001b[0mprint\u001b[0m\u001b[0;34m(\u001b[0m\u001b[0;34m\"\\nDP Solution:\"\u001b[0m\u001b[0;34m)\u001b[0m\u001b[0;34m\u001b[0m\u001b[0;34m\u001b[0m\u001b[0m\n",
            "\u001b[0;32m<ipython-input-4-0e7801a13ff1>\u001b[0m in \u001b[0;36msolutionAstar\u001b[0;34m(problem)\u001b[0m\n\u001b[1;32m     24\u001b[0m             \u001b[0;32mwhile\u001b[0m \u001b[0maction\u001b[0m \u001b[0;32mis\u001b[0m \u001b[0;32mnot\u001b[0m \u001b[0;32mNone\u001b[0m\u001b[0;34m:\u001b[0m\u001b[0;34m\u001b[0m\u001b[0;34m\u001b[0m\u001b[0m\n\u001b[1;32m     25\u001b[0m                 \u001b[0mpath\u001b[0m\u001b[0;34m.\u001b[0m\u001b[0mappendleft\u001b[0m\u001b[0;34m(\u001b[0m\u001b[0;34m(\u001b[0m\u001b[0maction\u001b[0m\u001b[0;34m,\u001b[0m \u001b[0mcurrent_state\u001b[0m\u001b[0;34m,\u001b[0m \u001b[0;36m0\u001b[0m\u001b[0;34m)\u001b[0m\u001b[0;34m)\u001b[0m\u001b[0;34m\u001b[0m\u001b[0;34m\u001b[0m\u001b[0m\n\u001b[0;32m---> 26\u001b[0;31m                 \u001b[0maction\u001b[0m\u001b[0;34m,\u001b[0m \u001b[0mcurrent_state\u001b[0m\u001b[0;34m,\u001b[0m \u001b[0m_\u001b[0m \u001b[0;34m=\u001b[0m \u001b[0mcame_from\u001b[0m\u001b[0;34m.\u001b[0m\u001b[0mpop\u001b[0m\u001b[0;34m(\u001b[0m\u001b[0;34m)\u001b[0m\u001b[0;34m\u001b[0m\u001b[0;34m\u001b[0m\u001b[0m\n\u001b[0m\u001b[1;32m     27\u001b[0m             \u001b[0;32mreturn\u001b[0m \u001b[0mpath\u001b[0m\u001b[0;34m\u001b[0m\u001b[0;34m\u001b[0m\u001b[0m\n\u001b[1;32m     28\u001b[0m \u001b[0;34m\u001b[0m\u001b[0m\n",
            "\u001b[0;31mKeyError\u001b[0m: 'pop from an empty set'"
          ]
        }
      ]
    },
    {
      "cell_type": "markdown",
      "source": [
        "# Exercício 3:\n",
        "\n",
        "As matrizes a seguir representam exemplos de mapas de rios congelados que você deve atravessar:\n",
        "\n",
        "```\n",
        "m0 =\n",
        " [\n",
        "    \"SFFF\",\n",
        "    \"FHFH\",\n",
        "    \"FFFH\",\n",
        "    \"HFFG\"\n",
        " ]\n",
        "\n",
        "m1 =\n",
        " [\n",
        "    \"SFFFFFFF\",\n",
        "    \"FFFFFFFF\",\n",
        "    \"FFFHFFFF\",\n",
        "    \"FFFFFHFF\",\n",
        "    \"FFFHFFFF\",\n",
        "    \"FHHFFFHF\",\n",
        "    \"FHFFHFHF\",\n",
        "    \"FFFHFFFG\",\n",
        " ]\n",
        "```\n",
        "\n",
        "Nesses mapas, *S* representa a sua posição inicial; *F* significa que a posição está congelada e pode ser ocupada; *H* significa que existe um buraco nessa posição; *G* representa a posição onde você quer chegar.\n",
        "\n",
        "Implemente a classe *FrozenLakeProblem* que recebe um mapa e implementa a mesma interface dos problemas anteriores. As ações permitidas em cada posição são: norte, sul, leste e oeste. Em sequência, encontre o algoritmo que retorna o caminho mais curto para um dado mapa.\n"
      ],
      "metadata": {
        "id": "9ViS35B26T2M"
      }
    },
    {
      "cell_type": "code",
      "source": [
        "import random\n",
        "\n",
        "class FrozenLakeProblem:\n",
        "    def __init__(self, m):\n",
        "        self.map = m\n",
        "\n",
        "    def startState(self):\n",
        "        for i in range(len(self.map)):\n",
        "            for j in range(len(self.map[i])):\n",
        "                if self.map[i][j] == 'S':\n",
        "                    return (i, j)\n",
        "\n",
        "    def isEnd(self, state):\n",
        "        i, j = state\n",
        "        return self.map[i][j] == 'G'\n",
        "\n",
        "    def succAndCost(self, state):\n",
        "        i, j = state\n",
        "        successors = []\n",
        "\n",
        "        # Ações possíveis: Norte, Sul, Leste, Oeste\n",
        "        actions = [(i-1, j), (i+1, j), (i, j-1), (i, j+1)]\n",
        "\n",
        "        for new_i, new_j in actions:\n",
        "            if 0 <= new_i < len(self.map) and 0 <= new_j < len(self.map[0]) and self.map[new_i][new_j] != 'H':\n",
        "                cost = 0 if self.map[new_i][new_j] == 'G' else 1\n",
        "                successors.append(('move', (new_i, new_j), cost))\n",
        "\n",
        "        return successors\n"
      ],
      "metadata": {
        "id": "uyFHLplefeF_"
      },
      "execution_count": null,
      "outputs": []
    },
    {
      "cell_type": "code",
      "source": [
        "def solution(problem):\n",
        "    # Implementação de busca em largura para encontrar o caminho mais curto\n",
        "    start = problem.startState()\n",
        "    frontier = [(start, [])]\n",
        "    visited = set()\n",
        "\n",
        "    while frontier:\n",
        "        current_state, path = frontier.pop(0)\n",
        "\n",
        "        if problem.isEnd(current_state):\n",
        "            return path\n",
        "\n",
        "        if current_state not in visited:\n",
        "            visited.add(current_state)\n",
        "            for action, next_state, _ in problem.succAndCost(current_state):\n",
        "                frontier.append((next_state, path + [action]))\n",
        "\n",
        "# Exemplo de uso:\n",
        "m0 = [\n",
        "    \"SFFF\",\n",
        "    \"FHFH\",\n",
        "    \"FFFH\",\n",
        "    \"HFFG\"\n",
        "]\n",
        "\n",
        "problem = FrozenLakeProblem(m0)\n",
        "print(solution(problem))"
      ],
      "metadata": {
        "id": "14ZlhbzmQ3KQ",
        "colab": {
          "base_uri": "https://localhost:8080/"
        },
        "outputId": "f161e184-e1a6-426b-f76d-fe92107abb20"
      },
      "execution_count": null,
      "outputs": [
        {
          "output_type": "stream",
          "name": "stdout",
          "text": [
            "['move', 'move', 'move', 'move', 'move', 'move']\n"
          ]
        }
      ]
    },
    {
      "cell_type": "markdown",
      "source": [
        "Imagine agora que, dado que o lago está congelado, quando você tenta se movimentar nele, existe uma chance de você escorregar e se movimentar em uma direção aleatória perpendicular à direção que você pretendia. Após algumas tentativas, você percebe que você escorrega com probabilidade *p* toda vez que tenta se movimentar e que, quando escorrega, é igual a chance de ir para qualquer um dos dois lados possíveis. Você também percebe que quando escorrega na direção das paredas que limitam o mapa, você bate na parede e permanece na mesma posição. Por último, é importante ressaltar que os buracos também são estados terminais desse MDP, porém com consequência bem mais desagradáveis que o estado G.\n",
        "\n",
        "Implemente a classe *FrozenLakeMDP* que recebe um mapa e uma probabilidade e implementa as funções necessárias para definir a interface desse problema para utilização com os algoritmos de *policyEvaluation* e *valueIteration* apresentados em sala de aula. Em seguida, implemente os algoritmos de *policyEvaluation* e *valueIteration* nas funções com os respectivos nomes."
      ],
      "metadata": {
        "id": "gG-4G-6FRYVF"
      }
    },
    {
      "cell_type": "code",
      "source": [
        "class FrozenLakeMDP:\n",
        "    def __init__(self, m, p):\n",
        "        self.map = m\n",
        "        self.probability = p\n",
        "\n",
        "    def startState(self):\n",
        "        for i in range(len(self.map)):\n",
        "            for j in range(len(self.map[i])):\n",
        "                if self.map[i][j] == 'S':\n",
        "                    return (i, j)\n",
        "\n",
        "    def isEnd(self, state):\n",
        "        i, j = state\n",
        "        return self.map[i][j] == 'G' or self.map[i][j] == 'H'\n",
        "\n",
        "    def states(self):\n",
        "        return [(i, j) for i in range(len(self.map)) for j in range(len(self.map[0]))]\n",
        "\n",
        "    def actions(self, state):\n",
        "        return ['move']\n",
        "\n",
        "    def succProbReward(self, state, action):\n",
        "        i, j = state\n",
        "        successors = []\n",
        "\n",
        "        # Ações possíveis: Norte, Sul, Leste, Oeste\n",
        "        actions = [(i-1, j), (i+1, j), (i, j-1), (i, j+1)]\n",
        "\n",
        "        for new_i, new_j in actions:\n",
        "            if 0 <= new_i < len(self.map) and 0 <= new_j < len(self.map[0]) and self.map[new_i][new_j] != 'H':\n",
        "                if self.map[new_i][new_j] == 'G':\n",
        "                    successors.append(((new_i, new_j), 1 - self.probability, 0))\n",
        "                else:\n",
        "                    successors.append(((new_i, new_j), self.probability, 0))\n",
        "\n",
        "        return successors"
      ],
      "metadata": {
        "id": "8Gg-QBLrXdEo"
      },
      "execution_count": null,
      "outputs": []
    },
    {
      "cell_type": "code",
      "source": [
        "def policyEvaluation(mdp, policy, gamma=0.9, tolerance=1e-6, max_iterations=1000):\n",
        "    # Implementação do algoritmo de avaliação de política\n",
        "    V = {state: 0 for state in mdp.states()}\n",
        "\n",
        "    for _ in range(max_iterations):\n",
        "        delta = 0\n",
        "        for state in mdp.states():\n",
        "            if not mdp.isEnd(state):\n",
        "                v = V[state]\n",
        "                new_v = sum(prob * (reward + gamma * V[next_state]) for next_state, prob, reward in mdp.succProbReward(state, policy[state]))\n",
        "                V[state] = new_v\n",
        "                delta = max(delta, abs(v - new_v))\n",
        "\n",
        "        if delta < tolerance:\n",
        "            break\n",
        "\n",
        "    return V\n",
        "\n",
        "def valueIteration(mdp, gamma=0.9, tolerance=1e-6, max_iterations=1000):\n",
        "    # Implementação do algoritmo de iteração de valor\n",
        "    V = {state: 0 for state in mdp.states()}\n",
        "\n",
        "    for _ in range(max_iterations):\n",
        "        delta = 0\n",
        "        for state in mdp.states():\n",
        "            if not mdp.isEnd(state):\n",
        "                v = V[state]\n",
        "                new_v = max(sum(prob * (reward + gamma * V[next_state]) for next_state, prob, reward in mdp.succProbReward(state, action)) for action in mdp.actions(state))\n",
        "                V[state] = new_v\n",
        "                delta = max(delta, abs(v - new_v))\n",
        "\n",
        "        if delta < tolerance:\n",
        "            break\n",
        "\n",
        "    return V\n"
      ],
      "metadata": {
        "id": "2N4F_RL7XhY2"
      },
      "execution_count": null,
      "outputs": []
    },
    {
      "cell_type": "markdown",
      "source": [
        "Por último, execute o algoritmo de *valueIteration* para uma mdp com *p = 0*. Observe o caminho tomado executando a política ótima obtida. Qual a relação desse caminho com o caminho mais curto obtido no item anterior?"
      ],
      "metadata": {
        "id": "8jCADoagXx00"
      }
    },
    {
      "cell_type": "markdown",
      "source": [
        "## Resposta:"
      ],
      "metadata": {
        "id": "X33QbKg5bRKi"
      }
    },
    {
      "cell_type": "code",
      "source": [
        "# Exemplo de uso para valueIteration com p=0:\n",
        "m0 = [\n",
        "    \"SFFF\",\n",
        "    \"FHFH\",\n",
        "    \"FFFH\",\n",
        "    \"HFFG\"\n",
        "]\n",
        "\n",
        "mdp = FrozenLakeMDP(m0, p=0)\n",
        "optimal_values = valueIteration(mdp)\n",
        "print(\"Optimal Values:\")\n",
        "print(optimal_values)\n",
        "\n",
        "# Encontrando a política ótima para o exemplo m0:\n",
        "optimal_policy = {state: max(mdp.actions(state), key=lambda action: sum(prob * (reward + 0.9 * optimal_values[next_state]) for next_state, prob, reward in mdp.succProbReward(state, action))) for state in mdp.states()}\n",
        "print(\"Optimal Policy:\")\n",
        "print(optimal_policy)"
      ],
      "metadata": {
        "colab": {
          "base_uri": "https://localhost:8080/"
        },
        "id": "C44eoe0mJmOF",
        "outputId": "2e0766a1-db3c-4dba-82be-5a17ec5a4d80"
      },
      "execution_count": null,
      "outputs": [
        {
          "output_type": "stream",
          "name": "stdout",
          "text": [
            "Optimal Values:\n",
            "{(0, 0): 0.0, (0, 1): 0.0, (0, 2): 0.0, (0, 3): 0.0, (1, 0): 0.0, (1, 1): 0, (1, 2): 0.0, (1, 3): 0, (2, 0): 0.0, (2, 1): 0.0, (2, 2): 0.0, (2, 3): 0, (3, 0): 0, (3, 1): 0.0, (3, 2): 0.0, (3, 3): 0}\n",
            "Optimal Policy:\n",
            "{(0, 0): 'move', (0, 1): 'move', (0, 2): 'move', (0, 3): 'move', (1, 0): 'move', (1, 1): 'move', (1, 2): 'move', (1, 3): 'move', (2, 0): 'move', (2, 1): 'move', (2, 2): 'move', (2, 3): 'move', (3, 0): 'move', (3, 1): 'move', (3, 2): 'move', (3, 3): 'move'}\n"
          ]
        }
      ]
    }
  ]
}